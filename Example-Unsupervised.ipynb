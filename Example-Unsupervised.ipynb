{
 "cells": [
  {
   "cell_type": "code",
   "execution_count": 23,
   "metadata": {},
   "outputs": [],
   "source": [
    "from glob import glob\n",
    "\n",
    "import matplotlib.pyplot as plt\n",
    "import seaborn as sns\n",
    "import pandas as pd\n",
    "from sklearn.cluster import KMeans\n",
    "from sklearn.metrics import adjusted_rand_score"
   ]
  },
  {
   "cell_type": "code",
   "execution_count": 18,
   "metadata": {},
   "outputs": [],
   "source": [
    "# Initialize the result dictionary\n",
    "results = {'case_study': [], 'dataset': [], 'ari': []}\n",
    "\n",
    "for path in glob('data/*/*.csv'):\n",
    "    # Read in the data\n",
    "    df = pd.read_csv(path)\n",
    "\n",
    "    # Extract case study name and dataset name\n",
    "    case_study = path.split('/')[1]\n",
    "    dataset = path.split('/')[-1].split('.')[0]\n",
    "\n",
    "    # Extract features and labels\n",
    "    X = df.iloc[:, :-1]\n",
    "    y = df.iloc[:, -1]\n",
    "\n",
    "    # Perform clustering using KMeans\n",
    "    kmeans = KMeans(n_clusters=3, n_init='auto', random_state=42)\n",
    "    y_pred = kmeans.fit_predict(X)\n",
    "\n",
    "    # Evaluate the clustering results using adjusted Rand index\n",
    "    ari = adjusted_rand_score(y, y_pred)\n",
    "    \n",
    "\n",
    "    # Append the results to dictionary\n",
    "    results['case_study'].append(case_study)\n",
    "    results['dataset'].append(dataset)\n",
    "    results['ari'].append(ari)\n",
    "\n",
    "\n",
    "# Convert the dictionary to a dataframe\n",
    "df_results = pd.DataFrame(results)\n",
    "# Sort the dataframe by case study and dataset\n",
    "df_results.sort_values(by=['case_study', 'dataset'], inplace=True)\n",
    "# Reset the index\n",
    "df_results.reset_index(drop=True, inplace=True)"
   ]
  },
  {
   "cell_type": "code",
   "execution_count": 19,
   "metadata": {},
   "outputs": [
    {
     "data": {
      "text/html": [
       "<div>\n",
       "<style scoped>\n",
       "    .dataframe tbody tr th:only-of-type {\n",
       "        vertical-align: middle;\n",
       "    }\n",
       "\n",
       "    .dataframe tbody tr th {\n",
       "        vertical-align: top;\n",
       "    }\n",
       "\n",
       "    .dataframe thead th {\n",
       "        text-align: right;\n",
       "    }\n",
       "</style>\n",
       "<table border=\"1\" class=\"dataframe\">\n",
       "  <thead>\n",
       "    <tr style=\"text-align: right;\">\n",
       "      <th></th>\n",
       "      <th>case_study</th>\n",
       "      <th>dataset</th>\n",
       "      <th>ari</th>\n",
       "    </tr>\n",
       "  </thead>\n",
       "  <tbody>\n",
       "    <tr>\n",
       "      <th>0</th>\n",
       "      <td>eshopper</td>\n",
       "      <td>000</td>\n",
       "      <td>0.190788</td>\n",
       "    </tr>\n",
       "    <tr>\n",
       "      <th>1</th>\n",
       "      <td>eshopper</td>\n",
       "      <td>001</td>\n",
       "      <td>0.365002</td>\n",
       "    </tr>\n",
       "    <tr>\n",
       "      <th>2</th>\n",
       "      <td>eshopper</td>\n",
       "      <td>002</td>\n",
       "      <td>0.365944</td>\n",
       "    </tr>\n",
       "    <tr>\n",
       "      <th>3</th>\n",
       "      <td>eshopper</td>\n",
       "      <td>003</td>\n",
       "      <td>0.949623</td>\n",
       "    </tr>\n",
       "    <tr>\n",
       "      <th>4</th>\n",
       "      <td>eshopper</td>\n",
       "      <td>004</td>\n",
       "      <td>0.365325</td>\n",
       "    </tr>\n",
       "    <tr>\n",
       "      <th>...</th>\n",
       "      <td>...</td>\n",
       "      <td>...</td>\n",
       "      <td>...</td>\n",
       "    </tr>\n",
       "    <tr>\n",
       "      <th>555</th>\n",
       "      <td>trainticket</td>\n",
       "      <td>275</td>\n",
       "      <td>0.634714</td>\n",
       "    </tr>\n",
       "    <tr>\n",
       "      <th>556</th>\n",
       "      <td>trainticket</td>\n",
       "      <td>276</td>\n",
       "      <td>0.590767</td>\n",
       "    </tr>\n",
       "    <tr>\n",
       "      <th>557</th>\n",
       "      <td>trainticket</td>\n",
       "      <td>277</td>\n",
       "      <td>0.590644</td>\n",
       "    </tr>\n",
       "    <tr>\n",
       "      <th>558</th>\n",
       "      <td>trainticket</td>\n",
       "      <td>278</td>\n",
       "      <td>0.610953</td>\n",
       "    </tr>\n",
       "    <tr>\n",
       "      <th>559</th>\n",
       "      <td>trainticket</td>\n",
       "      <td>279</td>\n",
       "      <td>0.563535</td>\n",
       "    </tr>\n",
       "  </tbody>\n",
       "</table>\n",
       "<p>560 rows × 3 columns</p>\n",
       "</div>"
      ],
      "text/plain": [
       "      case_study dataset       ari\n",
       "0       eshopper     000  0.190788\n",
       "1       eshopper     001  0.365002\n",
       "2       eshopper     002  0.365944\n",
       "3       eshopper     003  0.949623\n",
       "4       eshopper     004  0.365325\n",
       "..           ...     ...       ...\n",
       "555  trainticket     275  0.634714\n",
       "556  trainticket     276  0.590767\n",
       "557  trainticket     277  0.590644\n",
       "558  trainticket     278  0.610953\n",
       "559  trainticket     279  0.563535\n",
       "\n",
       "[560 rows x 3 columns]"
      ]
     },
     "execution_count": 19,
     "metadata": {},
     "output_type": "execute_result"
    }
   ],
   "source": [
    "df_results"
   ]
  },
  {
   "cell_type": "code",
   "execution_count": 26,
   "metadata": {},
   "outputs": [
    {
     "data": {
      "text/plain": [
       "Text(0.5, 0, 'Adjusted Rand Index (ARI)')"
      ]
     },
     "execution_count": 26,
     "metadata": {},
     "output_type": "execute_result"
    },
    {
     "data": {
      "image/png": "[encoded data removed]",
      "text/plain": [
       "<Figure size 640x480 with 1 Axes>"
      ]
     },
     "metadata": {},
     "output_type": "display_data"
    }
   ],
   "source": [
    "sns.histplot(data=df_results, x='ari', hue='case_study', multiple='stack', bins=100)\n",
    "\n",
    "plt.axvline(x=df_results.ari.mean(), color='black', linestyle='-')\n",
    "plt.axvline(x=df_results.ari.median(), color='black', linestyle='--')\n",
    "\n",
    "plt.xlabel('Adjusted Rand Index (ARI)')\n"
   ]
  },
  {
   "cell_type": "code",
   "execution_count": null,
   "metadata": {},
   "outputs": [],
   "source": []
  }
 ],
 "metadata": {
  "kernelspec": {
   "display_name": ".env",
   "language": "python",
   "name": "python3"
  },
  "language_info": {
   "codemirror_mode": {
    "name": "ipython",
    "version": 3
   },
   "file_extension": ".py",
   "mimetype": "text/x-python",
   "name": "python",
   "nbconvert_exporter": "python",
   "pygments_lexer": "ipython3",
   "version": "3.9.9"
  },
  "orig_nbformat": 4
 },
 "nbformat": 4,
 "nbformat_minor": 2
}
